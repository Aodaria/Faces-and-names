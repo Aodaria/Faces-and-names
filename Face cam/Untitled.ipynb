{
 "cells": [
  {
   "cell_type": "code",
   "execution_count": 11,
   "metadata": {
    "collapsed": false
   },
   "outputs": [
    {
     "name": "stderr",
     "output_type": "stream",
     "text": [
      "usage: __main__.py [-h]\n",
      "__main__.py: error: unrecognized arguments: -f C:\\Users\\Aoda\\AppData\\Roaming\\jupyter\\runtime\\kernel-9b1d24a9-0009-40fb-ac92-089534c4d784.json\n"
     ]
    },
    {
     "ename": "SystemExit",
     "evalue": "2",
     "output_type": "error",
     "traceback": [
      "An exception has occurred, use %tb to see the full traceback.\n",
      "\u001b[0;31mSystemExit\u001b[0m\u001b[0;31m:\u001b[0m 2\n"
     ]
    }
   ],
   "source": [
    "from imutils.video import VideoStream\n",
    "from imutils import face_utils\n",
    "import datetime\n",
    "import math\n",
    "import argparse\n",
    "import imutils\n",
    "import time\n",
    "import dlib\n",
    "import cv2\n",
    "\n",
    "\n",
    "def calcDist(a,b):\n",
    "\treturn math.sqrt((a[0]-b[0])*(a[0]-b[0]) + (a[1]-b[1])*(a[1]-b[1]))\n",
    "\n",
    "def findDist(mat):\n",
    "\too = calcDist(shape[0], shape[16])\n",
    "\tom = (calcDist(shape[0], shape[8]) + calcDist(shape[8], shape[16]) )/ 2\n",
    "\tegeg = calcDist(shape[36], shape[39])\n",
    "\teded = calcDist(shape[42], shape[45])\n",
    "\tbgbd = calcDist(shape[48], shape[54])\n",
    "\tngnd = calcDist(shape[31], shape[35])\n",
    "\n",
    "\treturn  [oo, om, egeg, eded, bgbd, ngnd]\n",
    "\n",
    "def dist2vect(vect1, vect2):\n",
    "\ttmp = 0\n",
    "\tfor a in range(len(vect1)):\n",
    "\t\ttmp += int((vect1[a] - vect2[a])) * int((vect1[a] - vect2[a]))\n",
    "\treturn tmp\n",
    "\n",
    "ap = argparse.ArgumentParser()\n",
    "\n",
    "args = vars(ap.parse_args())\n",
    "\n",
    "detector = dlib.get_frontal_face_detector()\n",
    "predictor = dlib.shape_predictor('shape_predictor_68_face_landmarks.dat')\n",
    "\n",
    "vs = VideoStream(usePiCamera=args[\"picamera\"] > 0).start()\n",
    "\n",
    "\n",
    "val = []\n",
    "while True:\n",
    "\n",
    "\tframe = vs.read()\n",
    "\tframe = imutils.resize(frame, width=400)\n",
    "\tgray = cv2.cvtColor(frame, cv2.COLOR_BGR2GRAY)\n",
    "\trects = detector(gray, 0)\n",
    "\ttmp = []\n",
    "\n",
    "\tfor rect in rects:\n",
    "\n",
    "\t\tshape = predictor(gray, rect)\n",
    "\t\tshape = face_utils.shape_to_np(shape)\n",
    "\t\ttmp = findDist(shape)\n",
    "\n",
    "\t\tfor (x, y) in shape:\n",
    "\t\t\tcv2.circle(frame, (x, y), 1, (0, 0, 255), -1)\n",
    "\n",
    "\tcv2.imshow(\"Frame\", frame)\n",
    "\tkey = cv2.waitKey(1) & 0xFF\n",
    "\tif key == ord(\"s\"):\n",
    "\t\tval = tmp\n",
    "\tif key == ord(\"a\"):\n",
    "\t\ttry:\n",
    "\t\t\ta = dist2vect(val, tmp)\n",
    "\t\t\tif a < 100:\n",
    "\t\t\t\tfor i in range(0, 16):\n",
    "\t\t\t\t\tcv2.line(image,(shape[i][0],shape[i][1]),(shape[i+1][0], shape[i+1][1]), (255,255,0), 2)\n",
    "\t\texcept:\n",
    "\t\t\tpass\n",
    "\tif key == ord(\"q\"):\n",
    "\t\tbreak\n",
    "\n",
    "cv2.destroyAllWindows()\n",
    "vs.stop()\n"
   ]
  },
  {
   "cell_type": "code",
   "execution_count": null,
   "metadata": {
    "collapsed": true
   },
   "outputs": [],
   "source": []
  },
  {
   "cell_type": "code",
   "execution_count": null,
   "metadata": {
    "collapsed": true
   },
   "outputs": [],
   "source": []
  }
 ],
 "metadata": {
  "kernelspec": {
   "display_name": "Python 2",
   "language": "python",
   "name": "python2"
  },
  "language_info": {
   "codemirror_mode": {
    "name": "ipython",
    "version": 2
   },
   "file_extension": ".py",
   "mimetype": "text/x-python",
   "name": "python",
   "nbconvert_exporter": "python",
   "pygments_lexer": "ipython2",
   "version": "2.7.13"
  }
 },
 "nbformat": 4,
 "nbformat_minor": 2
}
