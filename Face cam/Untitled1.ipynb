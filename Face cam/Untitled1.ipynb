{
 "cells": [
  {
   "cell_type": "code",
   "execution_count": null,
   "metadata": {
    "collapsed": true
   },
   "outputs": [],
   "source": [
    "import mysql.connector \n",
    "\n",
    "conn = mysql.connector.connect(host=\"localhost\",user=\"root\",password=\"Aoda252525\", database=\"Russian\")\n",
    "cursor = conn.cursor()\n",
    "cursor.execute(\"\"\"SELECT * FROM mot WHERE frequence>100\"\"\")\n",
    "rows = cursor.fetchall()\n",
    "print rows\n",
    "conn.close()"
   ]
  },
  {
   "cell_type": "code",
   "execution_count": null,
   "metadata": {
    "collapsed": true
   },
   "outputs": [],
   "source": []
  }
 ],
 "metadata": {
  "kernelspec": {
   "display_name": "Python 2",
   "language": "python",
   "name": "python2"
  }
 },
 "nbformat": 4,
 "nbformat_minor": 2
}
