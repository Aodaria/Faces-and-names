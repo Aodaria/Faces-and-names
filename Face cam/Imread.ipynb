{
 "cells": [
  {
   "cell_type": "code",
   "execution_count": 7,
   "metadata": {
    "collapsed": false,
    "scrolled": true
   },
   "outputs": [
    {
     "ename": "error",
     "evalue": "..\\..\\..\\modules\\imgproc\\src\\color.cpp:3739: error: (-215) scn == 3 || scn == 4 in function cv::cvtColor\n",
     "output_type": "error",
     "traceback": [
      "\u001b[0;31m---------------------------------------------------------------------------\u001b[0m",
      "\u001b[0;31merror\u001b[0m                                     Traceback (most recent call last)",
      "\u001b[0;32m<ipython-input-7-bb1efadb1a49>\u001b[0m in \u001b[0;36m<module>\u001b[0;34m()\u001b[0m\n\u001b[1;32m     44\u001b[0m     \u001b[0mret\u001b[0m\u001b[1;33m,\u001b[0m \u001b[0mframe\u001b[0m \u001b[1;33m=\u001b[0m \u001b[0mcap\u001b[0m\u001b[1;33m.\u001b[0m\u001b[0mread\u001b[0m\u001b[1;33m(\u001b[0m\u001b[1;33m)\u001b[0m\u001b[1;33m\u001b[0m\u001b[0m\n\u001b[1;32m     45\u001b[0m \u001b[1;33m\u001b[0m\u001b[0m\n\u001b[0;32m---> 46\u001b[0;31m     \u001b[0mgray\u001b[0m \u001b[1;33m=\u001b[0m \u001b[0mcv2\u001b[0m\u001b[1;33m.\u001b[0m\u001b[0mcvtColor\u001b[0m\u001b[1;33m(\u001b[0m\u001b[0mframe\u001b[0m\u001b[1;33m,\u001b[0m \u001b[0mcv2\u001b[0m\u001b[1;33m.\u001b[0m\u001b[0mCOLOR_BGR2GRAY\u001b[0m\u001b[1;33m)\u001b[0m\u001b[1;33m\u001b[0m\u001b[0m\n\u001b[0m\u001b[1;32m     47\u001b[0m \u001b[1;33m\u001b[0m\u001b[0m\n\u001b[1;32m     48\u001b[0m     \u001b[1;31m# preprocess\u001b[0m\u001b[1;33m\u001b[0m\u001b[1;33m\u001b[0m\u001b[0m\n",
      "\u001b[0;31merror\u001b[0m: ..\\..\\..\\modules\\imgproc\\src\\color.cpp:3739: error: (-215) scn == 3 || scn == 4 in function cv::cvtColor\n"
     ]
    }
   ],
   "source": [
    "import numpy as np\n",
    "import cv2\n",
    "import math\n",
    "\n",
    "cap = cv2.VideoCapture(0)\n",
    "face_cascade = cv2.CascadeClassifier('haarcascade_frontalface_default.xml')\n",
    "\n",
    "def frame2vect(face):\n",
    "    #transforme l'image en vect\n",
    "    try:\n",
    "        cv2.imshow('bob', face)\n",
    "        #face = cv2.resize(face,None,fx=200/len(face[0]), fy=200/len(face[1]), interpolation = cv2.INTER_CUBIC)\n",
    "        a = face.flatten()\n",
    "        #print len(a)\n",
    "        return a\n",
    "    except:\n",
    "        pass\n",
    "    \n",
    "def reduceMat(mat):\n",
    "    red = np.zeros((len(mat)/4, len(mat)/4))\n",
    "    try:\n",
    "        for i in range(len(mat)/4):\n",
    "            for j in range(len(mat)/4):\n",
    "                red[i,j] = (mat[i*4,j*4] + mat[i*4+1,j*4] + mat[i*4,j*4+1] + mat[i*4+1,j*4+1])\n",
    "        cv2.imshow('bab', red)\n",
    "    except:\n",
    "        pass\n",
    "    \n",
    "    \n",
    "def checkIn(vect):\n",
    "    #obj : voir la presence dans fichier ref\n",
    "    pass\n",
    "\n",
    "def dist2vect(vect1, vect2):\n",
    "    tmp = 0\n",
    "    for a in range(len(vect1)):\n",
    "        tmp += (vect1[a] - vect[2]) * (vect1[a] - vect[2])\n",
    "    return math.sqrt(tmp)\n",
    "        \n",
    "    \n",
    "while(True):    \n",
    "    \n",
    "    #Capture le flux video \n",
    "    ret, frame = cap.read()\n",
    "   \n",
    "    gray = cv2.cvtColor(frame, cv2.COLOR_BGR2GRAY)\n",
    "\n",
    "    # preprocess\n",
    "    gray = cv2.equalizeHist(gray)\n",
    "    faces = face_cascade.detectMultiScale(gray, 2, 5)\n",
    "\n",
    "    for (x,y,w,h) in faces:\n",
    "        #a = frame2vect(gray[y:y+h,x:x+w])\n",
    "        #print w,h\n",
    "        reduceMat(gray[y:y+h,x:x+w])\n",
    "        #print frame[x:x+w,y:y+h]\n",
    "        cv2.rectangle(gray,(x,y),(x+w,y+h),(255,0,0),2)\n",
    "        #face = man[x:x+w,y:y+h]\n",
    "        \n",
    "    # Affiche le result\n",
    "    cv2.imshow('frame',gray)\n",
    "    if cv2.waitKey(1) & 0xFF == ord('q'):\n",
    "        break\n",
    "\n",
    "        \n",
    "        \n",
    "# When everything done, release the capture\n",
    "cap.release()\n",
    "cv2.destroyAllWindows()"
   ]
  },
  {
   "cell_type": "code",
   "execution_count": null,
   "metadata": {
    "collapsed": true
   },
   "outputs": [],
   "source": []
  },
  {
   "cell_type": "code",
   "execution_count": null,
   "metadata": {
    "collapsed": true
   },
   "outputs": [],
   "source": []
  },
  {
   "cell_type": "code",
   "execution_count": null,
   "metadata": {
    "collapsed": true
   },
   "outputs": [],
   "source": []
  }
 ],
 "metadata": {
  "kernelspec": {
   "display_name": "Python 2",
   "language": "python",
   "name": "python2"
  },
  "language_info": {
   "codemirror_mode": {
    "name": "ipython",
    "version": 2
   },
   "file_extension": ".py",
   "mimetype": "text/x-python",
   "name": "python",
   "nbconvert_exporter": "python",
   "pygments_lexer": "ipython2",
   "version": "2.7.13"
  }
 },
 "nbformat": 4,
 "nbformat_minor": 2
}
