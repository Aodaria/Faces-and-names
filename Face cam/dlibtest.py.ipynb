{
 "cells": [
  {
   "cell_type": "code",
   "execution_count": null,
   "metadata": {
    "collapsed": true
   },
   "outputs": [],
   "source": [
    "\n",
    "import sys\n",
    "import os\n",
    "import dlib\n",
    "import glob\n",
    "import numpy as np\n",
    "from skimage import io\n",
    "\n",
    "cap = cv2.VideoCapture(0)\n",
    "\n",
    "\n",
    "predictor_path = sys.argv[1]\n",
    "face_rec_model_path = sys.argv[2]\n",
    "faces_folder_path = sys.argv[3]\n",
    "\n",
    "detector = dlib.get_frontal_face_detector()\n",
    "sp = dlib.shape_predictor(predictor_path)\n",
    "facerec = dlib.face_recognition_model_v1(face_rec_model_path)\n",
    "\n",
    "win = dlib.image_window()\n",
    "\n",
    "while (true):\n",
    "    \n",
    "    # Now process all the images\n",
    "    for f in glob.glob(os.path.join(faces_folder_path, \"*.jpg\")):\n",
    "    print(\"Processing file: {}\".format(f))\n",
    "    img = io.imread(f)\n",
    "\n",
    "    win.clear_overlay()\n",
    "    win.set_image(img)\n",
    "\n",
    "    dets = detector(img, 1)\n",
    "    print(\"Number of faces detected: {}\".format(len(dets)))\n",
    "\n",
    "    # Now process each face we found.\n",
    "    for k, d in enumerate(dets):\n",
    "        print(\"Detection {}: Left: {} Top: {} Right: {} Bottom: {}\".format(\n",
    "        k, d.left(), d.top(), d.right(), d.bottom()))\n",
    "           # Get the landmarks/parts for the face in box d.\n",
    "        shape = sp(img, d)\n",
    "            # Draw the face landmarks on the screen so we can see what face is currently being processed.\n",
    "        win.clear_overlay()\n",
    "        win.add_overlay(d)\n",
    "        win.add_overlay(shape)\n",
    "\n",
    "        face_descriptor = facerec.compute_face_descriptor(img, shape)\n",
    "        print(face_descriptor)\n",
    "\n",
    "\n"
   ]
  }
 ],
 "metadata": {
  "kernelspec": {
   "display_name": "Python 2",
   "language": "python",
   "name": "python2"
  },
  "language_info": {
   "codemirror_mode": {
    "name": "ipython",
    "version": 2
   },
   "file_extension": ".py",
   "mimetype": "text/x-python",
   "name": "python",
   "nbconvert_exporter": "python",
   "pygments_lexer": "ipython2",
   "version": "2.7.13"
  }
 },
 "nbformat": 4,
 "nbformat_minor": 2
}
